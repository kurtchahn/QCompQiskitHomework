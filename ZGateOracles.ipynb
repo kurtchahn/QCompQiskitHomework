{
 "cells": [
  {
   "cell_type": "markdown",
   "id": "5cbdac6e",
   "metadata": {},
   "source": [
    "Tianran Cui\n",
    "<br> Kurt Hahn\n",
    "<br> Claire Kreisel"
   ]
  },
  {
   "cell_type": "code",
   "execution_count": 1,
   "id": "a8c9c530",
   "metadata": {},
   "outputs": [],
   "source": [
    "from qiskit import *\n",
    "from qiskit import quantum_info, visualization, Aer, transpile"
   ]
  },
  {
   "cell_type": "code",
   "execution_count": 2,
   "id": "abab389a",
   "metadata": {},
   "outputs": [],
   "source": [
    "qubits=2\n",
    "tests=1\n",
    "\n",
    "q = QuantumRegister(2)\n",
    "c = ClassicalRegister(2)"
   ]
  },
  {
   "cell_type": "markdown",
   "id": "c275566c",
   "metadata": {},
   "source": [
    "### Grover Diffusion Operator"
   ]
  },
  {
   "cell_type": "code",
   "execution_count": 3,
   "id": "1e89404a",
   "metadata": {},
   "outputs": [],
   "source": [
    "def grover_diffusion(circuit, register):\n",
    "    circuit.barrier()\n",
    "    circuit.h(register)\n",
    "    circuit.x(register)\n",
    "    circuit.cz(register[0], register[1])\n",
    "    circuit.x(register)\n",
    "    circuit.h(register)"
   ]
  },
  {
   "cell_type": "markdown",
   "id": "a206ea0f",
   "metadata": {},
   "source": [
    "### |00⟩ Oracle"
   ]
  },
  {
   "cell_type": "code",
   "execution_count": 4,
   "id": "ef36179c",
   "metadata": {},
   "outputs": [
    {
     "data": {
      "text/html": [
       "<pre style=\"word-wrap: normal;white-space: pre;background: #fff0;line-height: 1.1;font-family: &quot;Courier New&quot;,Courier,monospace\">      ┌───┐ ░    ┌───┐ ░ ┌───┐┌───┐   ┌───┐┌───┐ ░ ┌─┐   \n",
       "q0_0: ┤ H ├─░──■─┤ Z ├─░─┤ H ├┤ X ├─■─┤ X ├┤ H ├─░─┤M├───\n",
       "      ├───┤ ░  │ ├───┤ ░ ├───┤├───┤ │ ├───┤├───┤ ░ └╥┘┌─┐\n",
       "q0_1: ┤ H ├─░──■─┤ Z ├─░─┤ H ├┤ X ├─■─┤ X ├┤ H ├─░──╫─┤M├\n",
       "      └───┘ ░    └───┘ ░ └───┘└───┘   └───┘└───┘ ░  ║ └╥┘\n",
       "c0: 2/══════════════════════════════════════════════╩══╩═\n",
       "                                                    0  1 </pre>"
      ],
      "text/plain": [
       "      ┌───┐ ░    ┌───┐ ░ ┌───┐┌───┐   ┌───┐┌───┐ ░ ┌─┐   \n",
       "q0_0: ┤ H ├─░──■─┤ Z ├─░─┤ H ├┤ X ├─■─┤ X ├┤ H ├─░─┤M├───\n",
       "      ├───┤ ░  │ ├───┤ ░ ├───┤├───┤ │ ├───┤├───┤ ░ └╥┘┌─┐\n",
       "q0_1: ┤ H ├─░──■─┤ Z ├─░─┤ H ├┤ X ├─■─┤ X ├┤ H ├─░──╫─┤M├\n",
       "      └───┘ ░    └───┘ ░ └───┘└───┘   └───┘└───┘ ░  ║ └╥┘\n",
       "c0: 2/══════════════════════════════════════════════╩══╩═\n",
       "                                                    0  1 "
      ]
     },
     "execution_count": 4,
     "metadata": {},
     "output_type": "execute_result"
    }
   ],
   "source": [
    "def oracle_00(circuit, register):\n",
    "    circuit.barrier()\n",
    "    circuit.cz(register[0], register[1])\n",
    "    circuit.z(register)\n",
    "\n",
    "qc = QuantumCircuit(q,c)\n",
    "\n",
    "qc.h(q)\n",
    "for test in range (0, tests):\n",
    "    oracle_00(qc, q)\n",
    "    grover_diffusion(qc, q)     \n",
    "qc.barrier()\n",
    "qc.measure(q, c)\n",
    "\n",
    "qc.draw()"
   ]
  },
  {
   "cell_type": "code",
   "execution_count": 5,
   "id": "41b0424f",
   "metadata": {},
   "outputs": [
    {
     "data": {
      "image/png": "[encoded data removed]",
      "text/plain": [
       "<Figure size 200x300 with 1 Axes>"
      ]
     },
     "execution_count": 5,
     "metadata": {},
     "output_type": "execute_result"
    }
   ],
   "source": [
    "backend = Aer.get_backend('aer_simulator')\n",
    "qobj = transpile(qc, backend)\n",
    "shots=1024\n",
    "\n",
    "result = backend.run(qobj, shots=shots).result()\n",
    "data = result.get_counts()\n",
    "visualization.plot_histogram(data, (2, 3))"
   ]
  },
  {
   "cell_type": "markdown",
   "id": "c82c5819",
   "metadata": {},
   "source": [
    "### |01⟩ Oracle"
   ]
  },
  {
   "cell_type": "code",
   "execution_count": 6,
   "id": "7c528e40",
   "metadata": {},
   "outputs": [
    {
     "data": {
      "text/html": [
       "<pre style=\"word-wrap: normal;white-space: pre;background: #fff0;line-height: 1.1;font-family: &quot;Courier New&quot;,Courier,monospace\">      ┌───┐ ░    ┌───┐ ░ ┌───┐┌───┐   ┌───┐┌───┐ ░ ┌─┐   \n",
       "q0_0: ┤ H ├─░──■─┤ Z ├─░─┤ H ├┤ X ├─■─┤ X ├┤ H ├─░─┤M├───\n",
       "      ├───┤ ░  │ └───┘ ░ ├───┤├───┤ │ ├───┤├───┤ ░ └╥┘┌─┐\n",
       "q0_1: ┤ H ├─░──■───────░─┤ H ├┤ X ├─■─┤ X ├┤ H ├─░──╫─┤M├\n",
       "      └───┘ ░          ░ └───┘└───┘   └───┘└───┘ ░  ║ └╥┘\n",
       "c0: 2/══════════════════════════════════════════════╩══╩═\n",
       "                                                    0  1 </pre>"
      ],
      "text/plain": [
       "      ┌───┐ ░    ┌───┐ ░ ┌───┐┌───┐   ┌───┐┌───┐ ░ ┌─┐   \n",
       "q0_0: ┤ H ├─░──■─┤ Z ├─░─┤ H ├┤ X ├─■─┤ X ├┤ H ├─░─┤M├───\n",
       "      ├───┤ ░  │ └───┘ ░ ├───┤├───┤ │ ├───┤├───┤ ░ └╥┘┌─┐\n",
       "q0_1: ┤ H ├─░──■───────░─┤ H ├┤ X ├─■─┤ X ├┤ H ├─░──╫─┤M├\n",
       "      └───┘ ░          ░ └───┘└───┘   └───┘└───┘ ░  ║ └╥┘\n",
       "c0: 2/══════════════════════════════════════════════╩══╩═\n",
       "                                                    0  1 "
      ]
     },
     "execution_count": 6,
     "metadata": {},
     "output_type": "execute_result"
    }
   ],
   "source": [
    "def oracle_01(circuit, register):\n",
    "    circuit.barrier()\n",
    "    circuit.cz(register[0], register[1])\n",
    "    circuit.z(register[0])\n",
    "    \n",
    "qc = QuantumCircuit(q,c)\n",
    "\n",
    "qc.h(q)\n",
    "for test in range (0, tests):\n",
    "    oracle_01(qc, q)\n",
    "    grover_diffusion(qc, q)     \n",
    "qc.barrier()\n",
    "qc.measure(q, c)\n",
    "\n",
    "qc.draw()"
   ]
  },
  {
   "cell_type": "code",
   "execution_count": 7,
   "id": "d10e8850",
   "metadata": {},
   "outputs": [
    {
     "data": {
      "image/png": "[encoded data removed]",
      "text/plain": [
       "<Figure size 200x300 with 1 Axes>"
      ]
     },
     "execution_count": 7,
     "metadata": {},
     "output_type": "execute_result"
    }
   ],
   "source": [
    "backend = Aer.get_backend('aer_simulator')\n",
    "qobj = transpile(qc, backend)\n",
    "shots=1024\n",
    "\n",
    "result = backend.run(qobj, shots=shots).result()\n",
    "data = result.get_counts()\n",
    "visualization.plot_histogram(data, (2,3))"
   ]
  },
  {
   "cell_type": "markdown",
   "id": "cd29529e",
   "metadata": {},
   "source": [
    "### |10⟩ Oracle"
   ]
  },
  {
   "cell_type": "code",
   "execution_count": 8,
   "id": "1652d03d",
   "metadata": {},
   "outputs": [
    {
     "data": {
      "text/html": [
       "<pre style=\"word-wrap: normal;white-space: pre;background: #fff0;line-height: 1.1;font-family: &quot;Courier New&quot;,Courier,monospace\">      ┌───┐ ░          ░ ┌───┐┌───┐   ┌───┐┌───┐ ░ ┌─┐   \n",
       "q0_0: ┤ H ├─░──■───────░─┤ H ├┤ X ├─■─┤ X ├┤ H ├─░─┤M├───\n",
       "      ├───┤ ░  │ ┌───┐ ░ ├───┤├───┤ │ ├───┤├───┤ ░ └╥┘┌─┐\n",
       "q0_1: ┤ H ├─░──■─┤ Z ├─░─┤ H ├┤ X ├─■─┤ X ├┤ H ├─░──╫─┤M├\n",
       "      └───┘ ░    └───┘ ░ └───┘└───┘   └───┘└───┘ ░  ║ └╥┘\n",
       "c0: 2/══════════════════════════════════════════════╩══╩═\n",
       "                                                    0  1 </pre>"
      ],
      "text/plain": [
       "      ┌───┐ ░          ░ ┌───┐┌───┐   ┌───┐┌───┐ ░ ┌─┐   \n",
       "q0_0: ┤ H ├─░──■───────░─┤ H ├┤ X ├─■─┤ X ├┤ H ├─░─┤M├───\n",
       "      ├───┤ ░  │ ┌───┐ ░ ├───┤├───┤ │ ├───┤├───┤ ░ └╥┘┌─┐\n",
       "q0_1: ┤ H ├─░──■─┤ Z ├─░─┤ H ├┤ X ├─■─┤ X ├┤ H ├─░──╫─┤M├\n",
       "      └───┘ ░    └───┘ ░ └───┘└───┘   └───┘└───┘ ░  ║ └╥┘\n",
       "c0: 2/══════════════════════════════════════════════╩══╩═\n",
       "                                                    0  1 "
      ]
     },
     "execution_count": 8,
     "metadata": {},
     "output_type": "execute_result"
    }
   ],
   "source": [
    "def oracle_10(circuit, register):\n",
    "    circuit.barrier()\n",
    "    circuit.cz(register[0], register[1])\n",
    "    circuit.z(register[1])\n",
    "    \n",
    "qc = QuantumCircuit(q,c)\n",
    "\n",
    "qc.h(q)\n",
    "for test in range (0, tests):\n",
    "    oracle_10(qc, q)\n",
    "    grover_diffusion(qc, q)     \n",
    "qc.barrier()\n",
    "qc.measure(q, c)\n",
    "\n",
    "qc.draw()"
   ]
  },
  {
   "cell_type": "code",
   "execution_count": 9,
   "id": "ad45b836",
   "metadata": {},
   "outputs": [
    {
     "data": {
      "image/png": "[encoded data removed]",
      "text/plain": [
       "<Figure size 200x300 with 1 Axes>"
      ]
     },
     "execution_count": 9,
     "metadata": {},
     "output_type": "execute_result"
    }
   ],
   "source": [
    "backend = Aer.get_backend('aer_simulator')\n",
    "qobj = transpile(qc, backend)\n",
    "shots=1024\n",
    "\n",
    "result = backend.run(qobj, shots=shots).result()\n",
    "data = result.get_counts()\n",
    "visualization.plot_histogram(data, (2,3))"
   ]
  },
  {
   "cell_type": "markdown",
   "id": "642d290d",
   "metadata": {},
   "source": [
    "### |11⟩ Oracle"
   ]
  },
  {
   "cell_type": "code",
   "execution_count": 10,
   "id": "340ec908",
   "metadata": {},
   "outputs": [
    {
     "data": {
      "text/html": [
       "<pre style=\"word-wrap: normal;white-space: pre;background: #fff0;line-height: 1.1;font-family: &quot;Courier New&quot;,Courier,monospace\">      ┌───┐ ░     ░ ┌───┐┌───┐   ┌───┐┌───┐ ░ ┌─┐   \n",
       "q0_0: ┤ H ├─░──■──░─┤ H ├┤ X ├─■─┤ X ├┤ H ├─░─┤M├───\n",
       "      ├───┤ ░  │  ░ ├───┤├───┤ │ ├───┤├───┤ ░ └╥┘┌─┐\n",
       "q0_1: ┤ H ├─░──■──░─┤ H ├┤ X ├─■─┤ X ├┤ H ├─░──╫─┤M├\n",
       "      └───┘ ░     ░ └───┘└───┘   └───┘└───┘ ░  ║ └╥┘\n",
       "c0: 2/═════════════════════════════════════════╩══╩═\n",
       "                                               0  1 </pre>"
      ],
      "text/plain": [
       "      ┌───┐ ░     ░ ┌───┐┌───┐   ┌───┐┌───┐ ░ ┌─┐   \n",
       "q0_0: ┤ H ├─░──■──░─┤ H ├┤ X ├─■─┤ X ├┤ H ├─░─┤M├───\n",
       "      ├───┤ ░  │  ░ ├───┤├───┤ │ ├───┤├───┤ ░ └╥┘┌─┐\n",
       "q0_1: ┤ H ├─░──■──░─┤ H ├┤ X ├─■─┤ X ├┤ H ├─░──╫─┤M├\n",
       "      └───┘ ░     ░ └───┘└───┘   └───┘└───┘ ░  ║ └╥┘\n",
       "c0: 2/═════════════════════════════════════════╩══╩═\n",
       "                                               0  1 "
      ]
     },
     "execution_count": 10,
     "metadata": {},
     "output_type": "execute_result"
    }
   ],
   "source": [
    "def oracle_11(circuit, register):\n",
    "    circuit.barrier()\n",
    "    circuit.cz(register[0], register[1])\n",
    "    \n",
    "qc = QuantumCircuit(q,c)\n",
    "\n",
    "qc.h(q)\n",
    "for test in range (0, tests):\n",
    "    oracle_11(qc, q)\n",
    "    grover_diffusion(qc, q)     \n",
    "qc.barrier()\n",
    "qc.measure(q, c)\n",
    "\n",
    "qc.draw()"
   ]
  },
  {
   "cell_type": "code",
   "execution_count": 11,
   "id": "71f60ce2",
   "metadata": {},
   "outputs": [
    {
     "data": {
      "image/png": "[encoded data removed]",
      "text/plain": [
       "<Figure size 200x300 with 1 Axes>"
      ]
     },
     "execution_count": 11,
     "metadata": {},
     "output_type": "execute_result"
    }
   ],
   "source": [
    "backend = Aer.get_backend('aer_simulator')\n",
    "qobj = transpile(qc, backend)\n",
    "shots=1024\n",
    "\n",
    "result = backend.run(qobj, shots=shots).result()\n",
    "data = result.get_counts()\n",
    "visualization.plot_histogram(data, (2,3))"
   ]
  }
 ],
 "metadata": {
  "kernelspec": {
   "display_name": "Python 3 (ipykernel)",
   "language": "python",
   "name": "python3"
  },
  "language_info": {
   "codemirror_mode": {
    "name": "ipython",
    "version": 3
   },
   "file_extension": ".py",
   "mimetype": "text/x-python",
   "name": "python",
   "nbconvert_exporter": "python",
   "pygments_lexer": "ipython3",
   "version": "3.9.13"
  }
 },
 "nbformat": 4,
 "nbformat_minor": 5
}
