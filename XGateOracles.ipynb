{
 "cells": [
  {
   "cell_type": "markdown",
   "id": "dff1eed9-246f-454d-b988-1af85503e83d",
   "metadata": {
    "tags": []
   },
   "source": [
    "# IQCIS Project 1: Grover's Algorithm\n",
    "## Due April 5th, 2023"
   ]
  },
  {
   "cell_type": "markdown",
   "id": "854c3763-b9d6-491c-8d1d-bec69889fdbb",
   "metadata": {},
   "source": [
    "Tianran Cui\n",
    "<br> Kurt Hahn\n",
    "<br> Claire Kreisel"
   ]
  },
  {
   "cell_type": "markdown",
   "id": "1ed5aa04-f8b7-45af-b8b9-6a0689f765ca",
   "metadata": {},
   "source": [
    "In this project, we will introduce Grover's algorithm and how it is used to solve database search problems. We'll implement the algorithm together using Qiskit for one case, and then challenge you to implement the algorithm for other cases and prove the result.\n",
    "\n",
    "## Contents\n",
    "\n",
    "1. [Introduction](#introduction)\n",
    "2. [Getting Started](#getstarted)\n",
    "3. [Example: 2-Qubit Grover Search](#2qubits)\n",
    "4. [Deliverables](#deliverables)\n",
    "5. [Resources](#resources)"
   ]
  },
  {
   "cell_type": "markdown",
   "id": "d1e28708-b3fc-43f3-9f13-6f81c26e4a67",
   "metadata": {
    "tags": []
   },
   "source": [
    "## 1. Introduction <a id='introduction'></a>\n",
    "\n",
    "Grover search is one way that a quantum computer provides a computational advantage over classical computers. Say we want to look through a long list with $N$ items total. We're looking for some particular item, but the list isn't sorted and we don't know where that item is. Classically, when searching for this value in a databse, we must look through **half** of the elements in the database on average and, in the worst case, what we want is at the very end and we must look through **everything**! Through a clever algorithm, Grover search provides *quadratic* speedup compared to classical search: for a database with $N$ elements, instead of taking $N$ steps to find the item, we must only perform roughly $\\sqrt{N}$ quantum operations. \n",
    "\n",
    "It's recommended that you use the resources listed in [Section 5](#resources). In particular, you need to learn about Grover's algorithm using [this Qiskit tutorial (link)](https://qiskit.org/textbook/ch-algorithms/grover.html)."
   ]
  },
  {
   "cell_type": "markdown",
   "id": "6ec6f5be-c5d5-4cbc-a4cd-5a385f9a423e",
   "metadata": {},
   "source": [
    "## 2. Getting Started <a id='getstarted'></a>\n",
    "\n",
    "This project assumes that you can write and run Qiskit code. The easiest way to do this is to use IBM Quantum Experience, a website that offers cloud access to the IBM quantum machines. This website has all the development tools needed for this project, so all you need to do is create an account. Another option is to install the Qiskit tools on your machine, see section [Section 5](#resources). The project will assume you are using the first option.\n",
    "\n",
    "We've walked through the process of importing this notebook into the IBM Quantum Lab in class already. To start, make sure you double-click and modify the second cell of this notebook to add your name. You can use *Ctrl+Enter* to finish editing a text cell and close it. All of the cells in this notebook can be edited, but you only need to run and add the code you're told to.\n",
    "\n",
    "First, run the below code to set up the environment by importing the basic Qiskit library functions and visualizations. You can run the cell by clicking on it and clicking the **Play** button at the top of the window, or by clicking on it and pressing **Shift+Enter**. You'll see the kernel become busy in the status line at the bottom of the window. Any errors or output wil be displayed below the cell (we shouldn't have any here). "
   ]
  },
  {
   "cell_type": "code",
   "execution_count": 1,
   "id": "b9ec148b-a20c-412a-b013-f206b5c99ad5",
   "metadata": {
    "tags": []
   },
   "outputs": [],
   "source": [
    "#initialization\n",
    "import matplotlib.pyplot as plt\n",
    "import numpy as np\n",
    "\n",
    "# import Qiskit functions and compilers\n",
    "from qiskit import Aer, assemble, transpile\n",
    "from qiskit import QuantumCircuit, ClassicalRegister, QuantumRegister\n",
    "\n",
    "# import basic plot and visualization tools\n",
    "from qiskit.tools.jupyter import *\n",
    "from qiskit.visualization import *"
   ]
  },
  {
   "cell_type": "markdown",
   "id": "a43ab849-f9e4-4af2-9e09-608548792fd5",
   "metadata": {
    "tags": []
   },
   "source": [
    "## 3. Example: 2-Qubit Grover Search <a id='2qubits'></a>\n",
    "\n",
    "In this section, we'll step through code that will perform a 2-qubit grover search for the state $|11\\rangle$. This code is already written and you'll just need to run each code block in order. Later, you'll need to develop the search operation for each of the other 2-qubit states: $|00\\rangle$, $|01\\rangle$, and $|10\\rangle$. Feel free to copy and edit the relevant blocks when it comes time to develop your search for the other states."
   ]
  },
  {
   "attachments": {
    "d30f6e8f-0351-4a31-b5de-2737329f6940.png": {
     "image/png": "[encoded data removed]"
    }
   },
   "cell_type": "markdown",
   "id": "1a7871dd-9e30-4bdf-943d-a77b4b536abe",
   "metadata": {},
   "source": [
    "The Grover search algorithm relies on the application of the **Controlled-Z Gate** (or CZ gate for short) for its oracle and diffusion operators. This gate flips the phase of the target qubit if the control qubit is in the $|1\\rangle$ state. When applied to the state corresponding to the desired search item, this gate performs the *phase inversion* step of Grover's algorithm. The matrix representation of a CZ gate is:\n",
    "\n",
    "\\begin{equation}\n",
    "        CZ\\ q_0, q_1 =\n",
    "            I \\otimes |0\\rangle\\langle 0| + Z \\otimes |1\\rangle\\langle 1| =\n",
    "            \\begin{pmatrix}\n",
    "                1 & 0 & 0 & 0 \\\\\n",
    "                0 & 1 & 0 & 0 \\\\\n",
    "                0 & 0 & 1 & 0 \\\\\n",
    "                0 & 0 & 0 & -1\n",
    "            \\end{pmatrix}\n",
    "\\end{equation}\n",
    "\n",
    "Qiskit has a `CZGate()` class which may be applied to a `QuantumCircuit` using the `cz()` method. The gate may be decomposed in Qiskit into more basic gates like this:\n",
    "\n",
    "![image.png](attachment:d30f6e8f-0351-4a31-b5de-2737329f6940.png)\n",
    "\n",
    "Below is the code to implement a basic CZ gate on two qubits, the control and the target. Note how this corresponds exactly to the gates in the image above!"
   ]
  },
  {
   "cell_type": "code",
   "execution_count": 2,
   "id": "634f3ec2-d2f2-424a-84a0-d739e9f91af8",
   "metadata": {
    "tags": []
   },
   "outputs": [],
   "source": [
    "def controlled_Z(circuit, control, target):\n",
    "    \"\"\" Implement a Z gate with a single control. \"\"\"\n",
    "    circuit.h(target)\n",
    "    circuit.cx(control, target)\n",
    "    circuit.h(target)"
   ]
  },
  {
   "cell_type": "markdown",
   "id": "07d9f965-8fac-4554-bd2a-b1280799b0eb",
   "metadata": {},
   "source": [
    "The next code cell will contain the **phase oracle** for targeting the $|11\\rangle$ state. When we want to target this state, the oracle is just a CZ gate. The oracle looks like this:"
   ]
  },
  {
   "cell_type": "code",
   "execution_count": 3,
   "id": "f02bc527-839a-4e41-8d60-c5ee1775b564",
   "metadata": {
    "tags": []
   },
   "outputs": [],
   "source": [
    "def phase_oracle(circuit, register):\n",
    "    # Call function that implements the CZ gate on a 2-qubit register.\n",
    "    # Equivalently, we could call the built in function on our QuantumRegister: \n",
    "    # circuit.cz(register[0], register[1])\n",
    "    controlled_Z(circuit, register[0], register[1])"
   ]
  },
  {
   "cell_type": "markdown",
   "id": "f9a21069-8d5c-41e5-9a76-e90fa574b181",
   "metadata": {},
   "source": [
    "In the next cell, we'll implement the Grover diffusion operator. The comments explain each step of the operation."
   ]
  },
  {
   "cell_type": "code",
   "execution_count": 4,
   "id": "e513b79e-e4c4-4e7b-bbe9-c1a59cfd42b1",
   "metadata": {
    "tags": []
   },
   "outputs": [],
   "source": [
    "def grover_diffusion(circuit, register):\n",
    "    # Apply Hadamard and X gates on all qubits\n",
    "    circuit.h(register)\n",
    "    circuit.x(register)\n",
    "    \n",
    "    # Create a barrier that isolates different sections of the circuit\n",
    "    circuit.barrier()\n",
    "    \n",
    "    # Apply CZ gate with target as qubit 1\n",
    "    controlled_Z(circuit, register[0], register[1])\n",
    "    \n",
    "    circuit.barrier()\n",
    "    \n",
    "    circuit.x(register)\n",
    "    circuit.h(register)"
   ]
  },
  {
   "cell_type": "markdown",
   "id": "e36f897d-b2d5-474e-88e6-81e8d71dbd34",
   "metadata": {},
   "source": [
    "Next, we'll create the Grover Search quantum circuit targeting state $|11\\rangle$ and draw it using the Qiskit tools. When you run this cell, you should see the circuit drawing appear below the cell. The value `tests` may be changed to run Grover's algorithm multiple times on the register."
   ]
  },
  {
   "cell_type": "code",
   "execution_count": 5,
   "id": "819c6809-643f-49a1-ad7d-497f975e24b6",
   "metadata": {
    "tags": []
   },
   "outputs": [
    {
     "data": {
      "text/html": [
       "<pre style=\"word-wrap: normal;white-space: pre;background: #fff0;line-height: 1.1;font-family: &quot;Courier New&quot;,Courier,monospace\">      ┌───┐ ░                 ░ ┌───┐┌───┐ ░                 ░ ┌───┐┌───┐ ░ ┌─┐»\n",
       "q0_0: ┤ H ├─░────────■────────░─┤ H ├┤ X ├─░────────■────────░─┤ X ├┤ H ├─░─┤M├»\n",
       "      ├───┤ ░ ┌───┐┌─┴─┐┌───┐ ░ ├───┤├───┤ ░ ┌───┐┌─┴─┐┌───┐ ░ ├───┤├───┤ ░ └╥┘»\n",
       "q0_1: ┤ H ├─░─┤ H ├┤ X ├┤ H ├─░─┤ H ├┤ X ├─░─┤ H ├┤ X ├┤ H ├─░─┤ X ├┤ H ├─░──╫─»\n",
       "      └───┘ ░ └───┘└───┘└───┘ ░ └───┘└───┘ ░ └───┘└───┘└───┘ ░ └───┘└───┘ ░  ║ »\n",
       "c0: 2/═══════════════════════════════════════════════════════════════════════╩═»\n",
       "                                                                             0 »\n",
       "«         \n",
       "«q0_0: ───\n",
       "«      ┌─┐\n",
       "«q0_1: ┤M├\n",
       "«      └╥┘\n",
       "«c0: 2/═╩═\n",
       "«       1 </pre>"
      ],
      "text/plain": [
       "      ┌───┐ ░                 ░ ┌───┐┌───┐ ░                 ░ ┌───┐┌───┐ ░ ┌─┐»\n",
       "q0_0: ┤ H ├─░────────■────────░─┤ H ├┤ X ├─░────────■────────░─┤ X ├┤ H ├─░─┤M├»\n",
       "      ├───┤ ░ ┌───┐┌─┴─┐┌───┐ ░ ├───┤├───┤ ░ ┌───┐┌─┴─┐┌───┐ ░ ├───┤├───┤ ░ └╥┘»\n",
       "q0_1: ┤ H ├─░─┤ H ├┤ X ├┤ H ├─░─┤ H ├┤ X ├─░─┤ H ├┤ X ├┤ H ├─░─┤ X ├┤ H ├─░──╫─»\n",
       "      └───┘ ░ └───┘└───┘└───┘ ░ └───┘└───┘ ░ └───┘└───┘└───┘ ░ └───┘└───┘ ░  ║ »\n",
       "c0: 2/═══════════════════════════════════════════════════════════════════════╩═»\n",
       "                                                                             0 »\n",
       "«         \n",
       "«q0_0: ───\n",
       "«      ┌─┐\n",
       "«q0_1: ┤M├\n",
       "«      └╥┘\n",
       "«c0: 2/═╩═\n",
       "«       1 "
      ]
     },
     "execution_count": 5,
     "metadata": {},
     "output_type": "execute_result"
    }
   ],
   "source": [
    "# Define circuit constants\n",
    "qubits = 2\n",
    "tests = 1\n",
    "\n",
    "# Instantiate register objects\n",
    "qr = QuantumRegister(qubits)\n",
    "cr = ClassicalRegister(qubits)\n",
    "groverCircuit = QuantumCircuit(qr, cr)\n",
    "\n",
    "# Initialize circuit with Hadamard gates\n",
    "groverCircuit.h(qr)\n",
    "\n",
    "# Run phase oracle and diffusion operators. \n",
    "# Can be run multiple times depending on the value \"tests\".\n",
    "for test in range(0,tests):\n",
    "    groverCircuit.barrier()\n",
    "    phase_oracle(groverCircuit, qr)\n",
    "    groverCircuit.barrier()\n",
    "    grover_diffusion(groverCircuit, qr)\n",
    "\n",
    "# Measure quantum registers\n",
    "groverCircuit.barrier()\n",
    "groverCircuit.measure(qr,cr)\n",
    "\n",
    "# Draw Circuit\n",
    "groverCircuit.draw()"
   ]
  },
  {
   "cell_type": "markdown",
   "id": "c9b97d74-4e61-4e67-9b1e-761cdebc97c1",
   "metadata": {},
   "source": [
    "Finally, we'll actually run the quantum algorithm multiple times and find the probability with which we observe each state. This final probability is based on the measurements we make at the end of each experiment. The number of runs can be configured using the value `shots`."
   ]
  },
  {
   "cell_type": "code",
   "execution_count": 6,
   "id": "e7d7b9d7-82f3-4aa7-aa2d-0d019e2453b5",
   "metadata": {
    "tags": []
   },
   "outputs": [
    {
     "data": {
      "image/png": "[encoded data removed]",
      "text/plain": [
       "<Figure size 700x500 with 1 Axes>"
      ]
     },
     "execution_count": 6,
     "metadata": {},
     "output_type": "execute_result"
    }
   ],
   "source": [
    "# Define backend that will simulate the circuit, and transpile the circuit for the Aer backend\n",
    "backend = Aer.get_backend('aer_simulator')\n",
    "qobj = transpile(groverCircuit, backend)\n",
    "    \n",
    "# Number of times the circuit is run\n",
    "shots = 1024\n",
    "    \n",
    "# Execute circuit and plot results on histogram\n",
    "result = backend.run(qobj, shots=shots).result()\n",
    "answer = result.get_counts()\n",
    "plot_histogram(answer)"
   ]
  },
  {
   "cell_type": "markdown",
   "id": "fe72ed35-2c31-485e-b7c2-e80ef67c4def",
   "metadata": {},
   "source": [
    "The histogram should only show the $|11\\rangle$ state, with a total of 1024 measurements. Next, you'll use this code and the resources in [Section 5](#resources) to develop oracles for the remaining states."
   ]
  },
  {
   "cell_type": "markdown",
   "id": "8a8eeaff-a5d8-477f-99eb-9ffd943d0d53",
   "metadata": {
    "tags": []
   },
   "source": [
    "## 4. Deliverables <a id='deliverables'></a>\n",
    "\n",
    "1. Prove, using linear algebra, the equivalence between the decomposed CZ gate and the matrix representation of the gate. This may be done using sympy in this notebook (just add a section following this one), or it may be done on paper/electronically and submitted as a separate PDF.\n",
    "2. In the following sections, develop oracles that target the $|00\\rangle$, $|01\\rangle$, and $|10\\rangle$ states. You may add multiple code cells to each section, or copy the Section 3 code into a single cell for each state and just change the oracle definition. Copy over all the circuit and simulation code. Ensure that you run the code to show **both** a circuit diagram **and** a result histogram from your experiments.\n",
    "3. Prove that your oracles for the other states implement phase inversion for the desired output. **Hint:** In each case you should end up with a 4x4 matrix that looks like the one shown above for the $|11\\rangle$ oracle."
   ]
  },
  {
   "cell_type": "markdown",
   "id": "9c1e89cd-8f7f-40b4-a880-f178c0599995",
   "metadata": {},
   "source": [
    "### 4.1 $|00\\rangle$ Oracle"
   ]
  },
  {
   "cell_type": "code",
   "execution_count": 7,
   "id": "577ef05b-2503-4dc8-b91b-b2d3480f8b7c",
   "metadata": {
    "tags": []
   },
   "outputs": [],
   "source": [
    "# Add your code here for the |00> oracle\n",
    "\n",
    "def phase_oracle_00(circuit, register):\n",
    "    # given that the current state is uniform superposition,\n",
    "    # apply phase to the targeted state\n",
    "    controlled_Z(circuit, register[0], register[1])\n",
    "    circuit.x(register)\n",
    "    \n",
    "\n",
    "# given that the current state is -|00> + |01> + |10> + |11>\n",
    "def grover_diffusion_00(circuit, register):\n",
    "    # Apply Hadamard and X gates on all qubits\n",
    "    circuit.h(register) \n",
    "    circuit.z(register)\n",
    "    \n",
    "    # Create a barrier that isolates different sections of the circuit\n",
    "    circuit.barrier()\n",
    "    \n",
    "    # Apply CZ gate with target as qubit 1\n",
    "    controlled_Z(circuit, register[0], register[1])\n",
    "    \n",
    "    circuit.barrier()\n",
    "    \n",
    "    circuit.h(register) "
   ]
  },
  {
   "cell_type": "code",
   "execution_count": 8,
   "id": "1f40de3f-c97d-4cd0-a790-0113c9236cc4",
   "metadata": {
    "tags": []
   },
   "outputs": [
    {
     "data": {
      "text/html": [
       "<pre style=\"word-wrap: normal;white-space: pre;background: #fff0;line-height: 1.1;font-family: &quot;Courier New&quot;,Courier,monospace\">      ┌───┐ ░           ┌───┐      ░ ┌───┐┌───┐ ░                 ░ ┌───┐ ░ ┌─┐»\n",
       "q6_0: ┤ H ├─░────────■──┤ X ├──────░─┤ H ├┤ Z ├─░────────■────────░─┤ H ├─░─┤M├»\n",
       "      ├───┤ ░ ┌───┐┌─┴─┐├───┤┌───┐ ░ ├───┤├───┤ ░ ┌───┐┌─┴─┐┌───┐ ░ ├───┤ ░ └╥┘»\n",
       "q6_1: ┤ H ├─░─┤ H ├┤ X ├┤ H ├┤ X ├─░─┤ H ├┤ Z ├─░─┤ H ├┤ X ├┤ H ├─░─┤ H ├─░──╫─»\n",
       "      └───┘ ░ └───┘└───┘└───┘└───┘ ░ └───┘└───┘ ░ └───┘└───┘└───┘ ░ └───┘ ░  ║ »\n",
       "c1: 2/═══════════════════════════════════════════════════════════════════════╩═»\n",
       "                                                                             0 »\n",
       "«         \n",
       "«q6_0: ───\n",
       "«      ┌─┐\n",
       "«q6_1: ┤M├\n",
       "«      └╥┘\n",
       "«c1: 2/═╩═\n",
       "«       1 </pre>"
      ],
      "text/plain": [
       "      ┌───┐ ░           ┌───┐      ░ ┌───┐┌───┐ ░                 ░ ┌───┐ ░ ┌─┐»\n",
       "q6_0: ┤ H ├─░────────■──┤ X ├──────░─┤ H ├┤ Z ├─░────────■────────░─┤ H ├─░─┤M├»\n",
       "      ├───┤ ░ ┌───┐┌─┴─┐├───┤┌───┐ ░ ├───┤├───┤ ░ ┌───┐┌─┴─┐┌───┐ ░ ├───┤ ░ └╥┘»\n",
       "q6_1: ┤ H ├─░─┤ H ├┤ X ├┤ H ├┤ X ├─░─┤ H ├┤ Z ├─░─┤ H ├┤ X ├┤ H ├─░─┤ H ├─░──╫─»\n",
       "      └───┘ ░ └───┘└───┘└───┘└───┘ ░ └───┘└───┘ ░ └───┘└───┘└───┘ ░ └───┘ ░  ║ »\n",
       "c1: 2/═══════════════════════════════════════════════════════════════════════╩═»\n",
       "                                                                             0 »\n",
       "«         \n",
       "«q6_0: ───\n",
       "«      ┌─┐\n",
       "«q6_1: ┤M├\n",
       "«      └╥┘\n",
       "«c1: 2/═╩═\n",
       "«       1 "
      ]
     },
     "execution_count": 8,
     "metadata": {},
     "output_type": "execute_result"
    }
   ],
   "source": [
    "# Define circuit constants\n",
    "qubits = 2\n",
    "tests = 1\n",
    "\n",
    "# Instantiate register objects\n",
    "qr = QuantumRegister(qubits)\n",
    "cr = ClassicalRegister(qubits)\n",
    "groverCircuit = QuantumCircuit(qr, cr)\n",
    "\n",
    "# Initialize circuit with Hadamard gates\n",
    "groverCircuit.h(qr)\n",
    "\n",
    "# Run phase oracle and diffusion operators. \n",
    "# Can be run multiple times depending on the value \"tests\".\n",
    "for test in range(0,tests):\n",
    "    groverCircuit.barrier()\n",
    "    phase_oracle_00(groverCircuit, qr)\n",
    "    groverCircuit.barrier()\n",
    "    grover_diffusion_00(groverCircuit, qr)\n",
    "\n",
    "# Measure quantum registers\n",
    "groverCircuit.barrier()\n",
    "groverCircuit.measure(qr,cr)\n",
    "\n",
    "# Draw Circuit\n",
    "groverCircuit.draw()"
   ]
  },
  {
   "cell_type": "code",
   "execution_count": 9,
   "id": "82774374-57c3-4027-a0a9-94889f60c791",
   "metadata": {
    "tags": []
   },
   "outputs": [
    {
     "data": {
      "image/png": "[encoded data removed]",
      "text/plain": [
       "<Figure size 700x500 with 1 Axes>"
      ]
     },
     "execution_count": 9,
     "metadata": {},
     "output_type": "execute_result"
    }
   ],
   "source": [
    "# Define backend that will simulate the circuit, and transpile the circuit for the Aer backend\n",
    "backend = Aer.get_backend('aer_simulator')\n",
    "qobj = transpile(groverCircuit, backend)\n",
    "\n",
    "# Number of times the circuit is run\n",
    "shots = 1024\n",
    "\n",
    "# Execute circuit and plot results on histogram\n",
    "result = backend.run(qobj, shots=shots).result()\n",
    "answer = result.get_counts()\n",
    "plot_histogram(answer)"
   ]
  },
  {
   "cell_type": "markdown",
   "id": "82caa0bc-1f61-40d0-abd3-f1bfb958c9c2",
   "metadata": {},
   "source": [
    "### 4.2 $|01\\rangle$ Oracle"
   ]
  },
  {
   "cell_type": "code",
   "execution_count": 10,
   "id": "a32f7493",
   "metadata": {
    "tags": []
   },
   "outputs": [],
   "source": [
    "# Add your code here for the |01> oracle\n",
    "def phase_oracle_01(circuit, register):\n",
    "    # given that the current state is uniform superposition,\n",
    "    # apply phase to the targeted state\n",
    "    controlled_Z(circuit, register[0], register[1])\n",
    "    circuit.x(register[1])\n",
    "    \n",
    "# given that the current state is |00> - |01> + |10> + |11>\n",
    "def grover_diffusion_01(circuit, register):\n",
    "    \n",
    "    # Apply CZ gate with target as qubit 1\n",
    "    controlled_Z(circuit, register[0], register[1])\n",
    "    \n",
    "    circuit.barrier()\n",
    "    \n",
    "    circuit.h(register) "
   ]
  },
  {
   "cell_type": "code",
   "execution_count": 11,
   "id": "86faac37-84e4-468a-b8a1-bb78c53036b4",
   "metadata": {
    "tags": []
   },
   "outputs": [
    {
     "data": {
      "text/html": [
       "<pre style=\"word-wrap: normal;white-space: pre;background: #fff0;line-height: 1.1;font-family: &quot;Courier New&quot;,Courier,monospace\">       ┌───┐ ░                      ░ ┌───┐┌───┐ ░                 ░ ┌───┐┌───┐»\n",
       "q13_0: ┤ H ├─░────────■─────────────░─┤ H ├┤ X ├─░────────■────────░─┤ X ├┤ H ├»\n",
       "       ├───┤ ░ ┌───┐┌─┴─┐┌───┐┌───┐ ░ ├───┤├───┤ ░ ┌───┐┌─┴─┐┌───┐ ░ ├───┤├───┤»\n",
       "q13_1: ┤ H ├─░─┤ H ├┤ X ├┤ H ├┤ X ├─░─┤ H ├┤ X ├─░─┤ H ├┤ X ├┤ H ├─░─┤ X ├┤ H ├»\n",
       "       └───┘ ░ └───┘└───┘└───┘└───┘ ░ └───┘└───┘ ░ └───┘└───┘└───┘ ░ └───┘└───┘»\n",
       " c2: 2/════════════════════════════════════════════════════════════════════════»\n",
       "                                                                               »\n",
       "«        ░ ┌─┐   \n",
       "«q13_0: ─░─┤M├───\n",
       "«        ░ └╥┘┌─┐\n",
       "«q13_1: ─░──╫─┤M├\n",
       "«        ░  ║ └╥┘\n",
       "« c2: 2/════╩══╩═\n",
       "«           0  1 </pre>"
      ],
      "text/plain": [
       "       ┌───┐ ░                      ░ ┌───┐┌───┐ ░                 ░ ┌───┐┌───┐»\n",
       "q13_0: ┤ H ├─░────────■─────────────░─┤ H ├┤ X ├─░────────■────────░─┤ X ├┤ H ├»\n",
       "       ├───┤ ░ ┌───┐┌─┴─┐┌───┐┌───┐ ░ ├───┤├───┤ ░ ┌───┐┌─┴─┐┌───┐ ░ ├───┤├───┤»\n",
       "q13_1: ┤ H ├─░─┤ H ├┤ X ├┤ H ├┤ X ├─░─┤ H ├┤ X ├─░─┤ H ├┤ X ├┤ H ├─░─┤ X ├┤ H ├»\n",
       "       └───┘ ░ └───┘└───┘└───┘└───┘ ░ └───┘└───┘ ░ └───┘└───┘└───┘ ░ └───┘└───┘»\n",
       " c2: 2/════════════════════════════════════════════════════════════════════════»\n",
       "                                                                               »\n",
       "«        ░ ┌─┐   \n",
       "«q13_0: ─░─┤M├───\n",
       "«        ░ └╥┘┌─┐\n",
       "«q13_1: ─░──╫─┤M├\n",
       "«        ░  ║ └╥┘\n",
       "« c2: 2/════╩══╩═\n",
       "«           0  1 "
      ]
     },
     "execution_count": 11,
     "metadata": {},
     "output_type": "execute_result"
    }
   ],
   "source": [
    "# Define circuit constants\n",
    "qubits = 2\n",
    "tests = 1\n",
    "\n",
    "# Instantiate register objects\n",
    "qr = QuantumRegister(qubits)\n",
    "cr = ClassicalRegister(qubits)\n",
    "groverCircuit = QuantumCircuit(qr, cr)\n",
    "\n",
    "# Initialize circuit with Hadamard gates\n",
    "groverCircuit.h(qr)\n",
    "\n",
    "# Run phase oracle and diffusion operators. \n",
    "# Can be run multiple times depending on the value \"tests\".\n",
    "for test in range(0,tests):\n",
    "    groverCircuit.barrier()\n",
    "    phase_oracle_01(groverCircuit, qr)\n",
    "    groverCircuit.barrier()\n",
    "    grover_diffusion(groverCircuit, qr)\n",
    "\n",
    "# Measure quantum registers\n",
    "groverCircuit.barrier()\n",
    "groverCircuit.measure(qr,cr)\n",
    "\n",
    "# Draw Circuit\n",
    "groverCircuit.draw()"
   ]
  },
  {
   "cell_type": "code",
   "execution_count": 12,
   "id": "8d1a4d79-9af3-4272-b25b-cf6e7ced5a9d",
   "metadata": {
    "tags": []
   },
   "outputs": [
    {
     "data": {
      "image/png": "[encoded data removed]",
      "text/plain": [
       "<Figure size 700x500 with 1 Axes>"
      ]
     },
     "execution_count": 12,
     "metadata": {},
     "output_type": "execute_result"
    }
   ],
   "source": [
    "# Define backend that will simulate the circuit, and transpile the circuit for the Aer backend\n",
    "backend = Aer.get_backend('aer_simulator')\n",
    "qobj = transpile(groverCircuit, backend)\n",
    "\n",
    "# Number of times the circuit is run\n",
    "shots = 1024\n",
    "\n",
    "# Execute circuit and plot results on histogram\n",
    "result = backend.run(qobj, shots=shots).result()\n",
    "answer = result.get_counts()\n",
    "plot_histogram(answer)"
   ]
  },
  {
   "cell_type": "markdown",
   "id": "82182d85-41a9-46a7-a8f8-baf59ca5d56e",
   "metadata": {},
   "source": [
    "### 4.3 $|10\\rangle$ Oracle"
   ]
  },
  {
   "cell_type": "code",
   "execution_count": 13,
   "id": "fec6b647",
   "metadata": {
    "tags": []
   },
   "outputs": [],
   "source": [
    "# Add your code here for the |10> oracle\n",
    "\n",
    "def phase_oracle_10(circuit, register):\n",
    "    # given that the current state is uniform superposition,\n",
    "    # apply phase to the targeted state\n",
    "    controlled_Z(circuit, register[0], register[1])\n",
    "    circuit.x(register[0])\n",
    "    \n",
    "# given that the current state is |00> + |01> - |10> + |11>\n",
    "def grover_diffusion_10(circuit, register):\n",
    "    \n",
    "    # Apply CZ gate with target as qubit 1\n",
    "    controlled_Z(circuit, register[0], register[1])\n",
    "    \n",
    "    circuit.barrier()\n",
    "    \n",
    "    circuit.h(register) "
   ]
  },
  {
   "cell_type": "code",
   "execution_count": 14,
   "id": "5bc70cdc-7b79-41e8-8962-086d7e137bb5",
   "metadata": {
    "tags": []
   },
   "outputs": [
    {
     "data": {
      "text/html": [
       "<pre style=\"word-wrap: normal;white-space: pre;background: #fff0;line-height: 1.1;font-family: &quot;Courier New&quot;,Courier,monospace\">       ┌───┐ ░           ┌───┐ ░ ┌───┐┌───┐ ░                 ░ ┌───┐┌───┐ ░ »\n",
       "q19_0: ┤ H ├─░────────■──┤ X ├─░─┤ H ├┤ X ├─░────────■────────░─┤ X ├┤ H ├─░─»\n",
       "       ├───┤ ░ ┌───┐┌─┴─┐├───┤ ░ ├───┤├───┤ ░ ┌───┐┌─┴─┐┌───┐ ░ ├───┤├───┤ ░ »\n",
       "q19_1: ┤ H ├─░─┤ H ├┤ X ├┤ H ├─░─┤ H ├┤ X ├─░─┤ H ├┤ X ├┤ H ├─░─┤ X ├┤ H ├─░─»\n",
       "       └───┘ ░ └───┘└───┘└───┘ ░ └───┘└───┘ ░ └───┘└───┘└───┘ ░ └───┘└───┘ ░ »\n",
       " c3: 2/══════════════════════════════════════════════════════════════════════»\n",
       "                                                                             »\n",
       "«       ┌─┐   \n",
       "«q19_0: ┤M├───\n",
       "«       └╥┘┌─┐\n",
       "«q19_1: ─╫─┤M├\n",
       "«        ║ └╥┘\n",
       "« c3: 2/═╩══╩═\n",
       "«        0  1 </pre>"
      ],
      "text/plain": [
       "       ┌───┐ ░           ┌───┐ ░ ┌───┐┌───┐ ░                 ░ ┌───┐┌───┐ ░ »\n",
       "q19_0: ┤ H ├─░────────■──┤ X ├─░─┤ H ├┤ X ├─░────────■────────░─┤ X ├┤ H ├─░─»\n",
       "       ├───┤ ░ ┌───┐┌─┴─┐├───┤ ░ ├───┤├───┤ ░ ┌───┐┌─┴─┐┌───┐ ░ ├───┤├───┤ ░ »\n",
       "q19_1: ┤ H ├─░─┤ H ├┤ X ├┤ H ├─░─┤ H ├┤ X ├─░─┤ H ├┤ X ├┤ H ├─░─┤ X ├┤ H ├─░─»\n",
       "       └───┘ ░ └───┘└───┘└───┘ ░ └───┘└───┘ ░ └───┘└───┘└───┘ ░ └───┘└───┘ ░ »\n",
       " c3: 2/══════════════════════════════════════════════════════════════════════»\n",
       "                                                                             »\n",
       "«       ┌─┐   \n",
       "«q19_0: ┤M├───\n",
       "«       └╥┘┌─┐\n",
       "«q19_1: ─╫─┤M├\n",
       "«        ║ └╥┘\n",
       "« c3: 2/═╩══╩═\n",
       "«        0  1 "
      ]
     },
     "execution_count": 14,
     "metadata": {},
     "output_type": "execute_result"
    }
   ],
   "source": [
    "# Define circuit constants\n",
    "qubits = 2\n",
    "tests = 1\n",
    "\n",
    "# Instantiate register objects\n",
    "qr = QuantumRegister(qubits)\n",
    "cr = ClassicalRegister(qubits)\n",
    "groverCircuit = QuantumCircuit(qr, cr)\n",
    "\n",
    "# Initialize circuit with Hadamard gates\n",
    "groverCircuit.h(qr)\n",
    "\n",
    "# Run phase oracle and diffusion operators. \n",
    "# Can be run multiple times depending on the value \"tests\".\n",
    "for test in range(0,tests):\n",
    "    groverCircuit.barrier()\n",
    "    phase_oracle_10(groverCircuit, qr)\n",
    "    groverCircuit.barrier()\n",
    "    grover_diffusion(groverCircuit, qr)\n",
    "\n",
    "# Measure quantum registers\n",
    "groverCircuit.barrier()\n",
    "groverCircuit.measure(qr,cr)\n",
    "\n",
    "# Draw Circuit\n",
    "groverCircuit.draw()"
   ]
  },
  {
   "cell_type": "code",
   "execution_count": 15,
   "id": "b4a9eead-df17-4fb9-8f23-83ce7e43e126",
   "metadata": {
    "tags": []
   },
   "outputs": [
    {
     "data": {
      "image/png": "[encoded data removed]",
      "text/plain": [
       "<Figure size 700x500 with 1 Axes>"
      ]
     },
     "execution_count": 15,
     "metadata": {},
     "output_type": "execute_result"
    }
   ],
   "source": [
    "# Define backend that will simulate the circuit, and transpile the circuit for the Aer backend\n",
    "backend = Aer.get_backend('aer_simulator')\n",
    "qobj = transpile(groverCircuit, backend)\n",
    "    \n",
    "# Number of times the circuit is run\n",
    "shots = 1024\n",
    "    \n",
    "# Execute circuit and plot results on histogram\n",
    "result = backend.run(qobj, shots=shots).result()\n",
    "answer = result.get_counts()\n",
    "plot_histogram(answer)"
   ]
  },
  {
   "cell_type": "markdown",
   "id": "2b91466e-f3fd-4036-aeb6-ef04f863bb23",
   "metadata": {
    "tags": []
   },
   "source": [
    "## 5. Resources <a id='resources'></a>\n",
    "\n",
    "- **IBM Quantum Composer**: https://quantum-computing.ibm.com/composer\n",
    "- **Installing Qiskit**: https://qiskit.org/documentation/install.html\n",
    "- **Grover Search Explanation**: https://qiskit.org/textbook/ch-algorithms/grover.html\n",
    "- **Getting Started With Qiskit**: https://qiskit.org/documentation/tutorials/circuits/1_getting_started_with_qiskit.html\n",
    "- **Your TA**: Feel free to send me an email with any questions you may have! I also can meet through zoom if needed. drb3015@rit.edu"
   ]
  },
  {
   "cell_type": "code",
   "execution_count": 16,
   "id": "e0b3a92a-715b-4e4c-98d8-70208d72440e",
   "metadata": {
    "jupyter": {
     "source_hidden": true
    },
    "tags": []
   },
   "outputs": [
    {
     "data": {
      "text/html": [
       "<h3>Version Information</h3><table><tr><th>Qiskit Software</th><th>Version</th></tr><tr><td><code>qiskit-terra</code></td><td>0.23.2</td></tr><tr><td><code>qiskit-aer</code></td><td>0.12.0</td></tr><tr><td><code>qiskit-ibmq-provider</code></td><td>0.20.2</td></tr><tr><td><code>qiskit</code></td><td>0.42.0</td></tr><tr><th>System information</th></tr><tr><td>Python version</td><td>3.9.13</td></tr><tr><td>Python compiler</td><td>MSC v.1916 64 bit (AMD64)</td></tr><tr><td>Python build</td><td>main, Aug 25 2022 23:51:50</td></tr><tr><td>OS</td><td>Windows</td></tr><tr><td>CPUs</td><td>6</td></tr><tr><td>Memory (Gb)</td><td>15.365459442138672</td></tr><tr><td colspan='2'>Tue Apr 04 19:24:33 2023 Eastern Daylight Time</td></tr></table>"
      ],
      "text/plain": [
       "<IPython.core.display.HTML object>"
      ]
     },
     "metadata": {},
     "output_type": "display_data"
    }
   ],
   "source": [
    "# Debug stuff\n",
    "import qiskit.tools.jupyter\n",
    "%qiskit_version_table"
   ]
  }
 ],
 "metadata": {
  "kernelspec": {
   "display_name": "Python 3 (ipykernel)",
   "language": "python",
   "name": "python3"
  },
  "language_info": {
   "codemirror_mode": {
    "name": "ipython",
    "version": 3
   },
   "file_extension": ".py",
   "mimetype": "text/x-python",
   "name": "python",
   "nbconvert_exporter": "python",
   "pygments_lexer": "ipython3",
   "version": "3.9.13"
  },
  "widgets": {
   "application/vnd.jupyter.widget-state+json": {
    "state": {
     "07b66a3af1694dabb59c3194b534efff": {
      "model_module": "@jupyter-widgets/base",
      "model_module_version": "2.0.0",
      "model_name": "LayoutModel",
      "state": {
       "grid_area": "right",
       "padding": "0px 0px 0px 0px",
       "width": "70px"
      }
     },
     "085ac6a253974d75b280e0919e11f216": {
      "model_module": "@jupyter-widgets/controls",
      "model_module_version": "2.0.0",
      "model_name": "HTMLModel",
      "state": {
       "layout": "IPY_MODEL_8ee6f96c0d704e2b9e600f82e397eba1",
       "style": "IPY_MODEL_c8dfbcfe159646b4a45e58f25111b53d",
       "value": "<h5>Backend</h5>"
      }
     },
     "1621a8df62004af9a87041ddbdc0edf9": {
      "model_module": "@jupyter-widgets/controls",
      "model_module_version": "2.0.0",
      "model_name": "HTMLStyleModel",
      "state": {
       "description_width": "",
       "font_size": null,
       "text_color": null
      }
     },
     "20eb3d58c95447e2b3ccd86fa4caaf2b": {
      "model_module": "@jupyter-widgets/base",
      "model_module_version": "2.0.0",
      "model_name": "LayoutModel",
      "state": {}
     },
     "4593a10f181a4987ad6a45d6a9818fc6": {
      "model_module": "@jupyter-widgets/base",
      "model_module_version": "2.0.0",
      "model_name": "LayoutModel",
      "state": {
       "width": "95px"
      }
     },
     "4799f6b36f05495dbb26d1cfb2607adb": {
      "model_module": "@jupyter-widgets/controls",
      "model_module_version": "2.0.0",
      "model_name": "HTMLModel",
      "state": {
       "layout": "IPY_MODEL_4593a10f181a4987ad6a45d6a9818fc6",
       "style": "IPY_MODEL_82830a9863104e759e2ce89fe9b6184b",
       "value": "<h5>Status</h5>"
      }
     },
     "580e255086714aefb6b6fdc27c03b15a": {
      "model_module": "@jupyter-widgets/controls",
      "model_module_version": "2.0.0",
      "model_name": "HTMLModel",
      "state": {
       "layout": "IPY_MODEL_ecb53f55446c48d584ef0f56be23f971",
       "style": "IPY_MODEL_1621a8df62004af9a87041ddbdc0edf9",
       "value": "<h5>Job ID</h5>"
      }
     },
     "6385563871df4accbc0605dd0d7d048a": {
      "model_module": "@jupyter-widgets/controls",
      "model_module_version": "2.0.0",
      "model_name": "HTMLStyleModel",
      "state": {
       "description_width": "",
       "font_size": null,
       "text_color": null
      }
     },
     "68b2c58b3af243efa7df5f08fd2618a0": {
      "model_module": "@jupyter-widgets/controls",
      "model_module_version": "2.0.0",
      "model_name": "GridBoxModel",
      "state": {
       "children": [
        "IPY_MODEL_8ed221ef2496446fb9a81096302bd8d0"
       ],
       "layout": "IPY_MODEL_e9baa7419e554195a36a02cef4db51f9"
      }
     },
     "6b84e84d781c431da5ab4001effd8f88": {
      "model_module": "@jupyter-widgets/base",
      "model_module_version": "2.0.0",
      "model_name": "LayoutModel",
      "state": {
       "margin": "0px 0px 0px 37px",
       "width": "600px"
      }
     },
     "81ad839576b2406d93190ab73c3f27b0": {
      "model_module": "@jupyter-widgets/controls",
      "model_module_version": "2.0.0",
      "model_name": "HTMLStyleModel",
      "state": {
       "description_width": "",
       "font_size": null,
       "text_color": null
      }
     },
     "82830a9863104e759e2ce89fe9b6184b": {
      "model_module": "@jupyter-widgets/controls",
      "model_module_version": "2.0.0",
      "model_name": "HTMLStyleModel",
      "state": {
       "description_width": "",
       "font_size": null,
       "text_color": null
      }
     },
     "8ed221ef2496446fb9a81096302bd8d0": {
      "model_module": "@jupyter-widgets/controls",
      "model_module_version": "2.0.0",
      "model_name": "ButtonModel",
      "state": {
       "button_style": "primary",
       "description": "Clear",
       "layout": "IPY_MODEL_07b66a3af1694dabb59c3194b534efff",
       "style": "IPY_MODEL_9f5d1e64d2a8427c94b2359aa4940a29",
       "tooltip": null
      }
     },
     "8ee6f96c0d704e2b9e600f82e397eba1": {
      "model_module": "@jupyter-widgets/base",
      "model_module_version": "2.0.0",
      "model_name": "LayoutModel",
      "state": {
       "width": "145px"
      }
     },
     "9f5d1e64d2a8427c94b2359aa4940a29": {
      "model_module": "@jupyter-widgets/controls",
      "model_module_version": "2.0.0",
      "model_name": "ButtonStyleModel",
      "state": {
       "font_family": null,
       "font_size": null,
       "font_style": null,
       "font_variant": null,
       "font_weight": null,
       "text_color": null,
       "text_decoration": null
      }
     },
     "b3edaa832310442ca751e846f260deda": {
      "model_module": "@jupyter-widgets/controls",
      "model_module_version": "2.0.0",
      "model_name": "HTMLModel",
      "state": {
       "layout": "IPY_MODEL_20eb3d58c95447e2b3ccd86fa4caaf2b",
       "style": "IPY_MODEL_fb9fe432119d4d3b96c3ab3dde7a0c75",
       "value": "<h5>Message</h5>"
      }
     },
     "be504ba0deda42dbadd6e1e55d13b240": {
      "model_module": "@jupyter-widgets/controls",
      "model_module_version": "2.0.0",
      "model_name": "HTMLModel",
      "state": {
       "layout": "IPY_MODEL_e99b5acc7d9445ebb47630e7b27f99c7",
       "style": "IPY_MODEL_81ad839576b2406d93190ab73c3f27b0",
       "value": "<h5>Queue</h5>"
      }
     },
     "c3d4791459dc4f72a853c4cd7a892f18": {
      "model_module": "@jupyter-widgets/controls",
      "model_module_version": "2.0.0",
      "model_name": "HTMLModel",
      "state": {
       "layout": "IPY_MODEL_e76871b4df3b4e04999d822208ed91cb",
       "style": "IPY_MODEL_6385563871df4accbc0605dd0d7d048a",
       "value": "<p style='font-family: IBM Plex Sans, Arial, Helvetica, sans-serif; font-size: 20px; font-weight: medium;'>Circuit Properties</p>"
      }
     },
     "c8b45c97bf85441c90fb215097aec16e": {
      "model_module": "@jupyter-widgets/controls",
      "model_module_version": "2.0.0",
      "model_name": "HBoxModel",
      "state": {
       "children": [
        "IPY_MODEL_580e255086714aefb6b6fdc27c03b15a",
        "IPY_MODEL_085ac6a253974d75b280e0919e11f216",
        "IPY_MODEL_4799f6b36f05495dbb26d1cfb2607adb",
        "IPY_MODEL_be504ba0deda42dbadd6e1e55d13b240",
        "IPY_MODEL_b3edaa832310442ca751e846f260deda"
       ],
       "layout": "IPY_MODEL_6b84e84d781c431da5ab4001effd8f88"
      }
     },
     "c8dfbcfe159646b4a45e58f25111b53d": {
      "model_module": "@jupyter-widgets/controls",
      "model_module_version": "2.0.0",
      "model_name": "HTMLStyleModel",
      "state": {
       "description_width": "",
       "font_size": null,
       "text_color": null
      }
     },
     "e76871b4df3b4e04999d822208ed91cb": {
      "model_module": "@jupyter-widgets/base",
      "model_module_version": "2.0.0",
      "model_name": "LayoutModel",
      "state": {
       "margin": "0px 0px 10px 0px"
      }
     },
     "e99b5acc7d9445ebb47630e7b27f99c7": {
      "model_module": "@jupyter-widgets/base",
      "model_module_version": "2.0.0",
      "model_name": "LayoutModel",
      "state": {
       "width": "70px"
      }
     },
     "e9baa7419e554195a36a02cef4db51f9": {
      "model_module": "@jupyter-widgets/base",
      "model_module_version": "2.0.0",
      "model_name": "LayoutModel",
      "state": {
       "grid_template_areas": "\n                                       \". . . . right \"\n                                        ",
       "grid_template_columns": "20% 20% 20% 20% 20%",
       "width": "100%"
      }
     },
     "ecb53f55446c48d584ef0f56be23f971": {
      "model_module": "@jupyter-widgets/base",
      "model_module_version": "2.0.0",
      "model_name": "LayoutModel",
      "state": {
       "width": "190px"
      }
     },
     "fb9fe432119d4d3b96c3ab3dde7a0c75": {
      "model_module": "@jupyter-widgets/controls",
      "model_module_version": "2.0.0",
      "model_name": "HTMLStyleModel",
      "state": {
       "description_width": "",
       "font_size": null,
       "text_color": null
      }
     }
    },
    "version_major": 2,
    "version_minor": 0
   }
  }
 },
 "nbformat": 4,
 "nbformat_minor": 5
}
